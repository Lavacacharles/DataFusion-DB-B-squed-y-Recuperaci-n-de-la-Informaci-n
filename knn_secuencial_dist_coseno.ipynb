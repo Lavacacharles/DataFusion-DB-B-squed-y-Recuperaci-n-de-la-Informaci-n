{
 "cells": [
  {
   "cell_type": "code",
   "execution_count": null,
   "metadata": {},
   "outputs": [],
   "source": [
    "import pickle\n",
    "import numpy as np\n",
    "import heapq\n",
    "import os\n",
    "import pandas as pd\n",
    "import requests\n",
    "from PIL import Image\n",
    "from io import BytesIO\n",
    "\n",
    "folder_path = 'vectores'\n",
    "\n",
    "archivos_pkl = [f for f in os.listdir(folder_path) if f.endswith('.pkl')]\n",
    "\n",
    "embeddings = []\n",
    "image_names = []\n",
    "\n",
    "for archivo in archivos_pkl:\n",
    "    archivo_pkl = os.path.join(folder_path, archivo)\n",
    "    \n",
    "    with open(archivo_pkl, 'rb') as f:\n",
    "        datos = pickle.load(f)\n",
    "    \n",
    "    for item in datos:\n",
    "        if 'embedding' in item and item['embedding'] is not None and len(item['embedding']) > 0:\n",
    "            embeddings.append(item['embedding'][0])  \n",
    "            image_names.append(item['image_name'])  \n",
    "\n",
    "def cosine_similarity(v1, v2):\n",
    "    \"\"\"Calcula la similitud de coseno entre dos vectores.\"\"\"\n",
    "    dot_product = np.dot(v1, v2)  \n",
    "    norm_v1 = np.linalg.norm(v1)   \n",
    "    norm_v2 = np.linalg.norm(v2)   \n",
    "    return dot_product / (norm_v1 * norm_v2)\n",
    "\n",
    "def KnnSearchCoseno(data, query, k):\n",
    "    max_heap = []\n",
    "    \n",
    "    for i in range(len(data)):\n",
    "        sim = cosine_similarity(data[i], query)  \n",
    "        \n",
    "        if len(max_heap) < k:\n",
    "            heapq.heappush(max_heap, (sim, i))  \n",
    "        else:\n",
    "            heapq.heappushpop(max_heap, (sim, i))  \n",
    "    \n",
    "    return [(image_names[i], sim) for sim, i in max_heap]  \n",
    "\n",
    "\n",
    "\n"
   ]
  },
  {
   "cell_type": "code",
   "execution_count": null,
   "metadata": {},
   "outputs": [
    {
     "name": "stdout",
     "output_type": "stream",
     "text": [
      "La imagen de la query es:  filename                                            30805.jpg\n",
      "link        http://assets.myntassets.com/v1/images/style/p...\n",
      "Name: 6, dtype: object\n",
      "Link de la imagen: http://assets.myntassets.com/v1/images/style/properties/06e9d4231254fdb2c7fe967ad413ad7b_images.jpg\n",
      "Las 5 imágenes más cercanas a 30805.jpg son:\n",
      "Imagen: 41587.jpg, Similitud: 0.930131493442379\n",
      "Link de la imagen: http://assets.myntassets.com/v1/images/style/properties/036f2c734abc53620813580f530e4cdb_images.jpg\n",
      "Imagen: 14669.jpg, Similitud: 0.9326281617052574\n",
      "Link de la imagen: http://assets.myntassets.com/v1/images/style/properties/3aa18746c06db000ce9177998ef34f2b_images.jpg\n",
      "Imagen: 30805.jpg, Similitud: 1.0000000000000002\n",
      "Link de la imagen: http://assets.myntassets.com/v1/images/style/properties/06e9d4231254fdb2c7fe967ad413ad7b_images.jpg\n",
      "Imagen: 23199.jpg, Similitud: 0.9512444918589128\n",
      "Link de la imagen: http://assets.myntassets.com/v1/images/style/properties/b4d30abb75c82962a03e9ae936fd63ff_images.jpg\n",
      "Imagen: 17751.jpg, Similitud: 0.9363099227149834\n",
      "Link de la imagen: http://assets.myntassets.com/v1/images/style/properties/6e03fb7365a228ef94e46ac09d25d1c8_images.jpg\n"
     ]
    }
   ],
   "source": [
    "images_df = pd.read_csv('images.csv/images.csv')\n",
    "\n",
    "query_index = 6\n",
    "query = embeddings[query_index]  \n",
    "imagen_q_name = image_names[query_index]\n",
    "\n",
    "imagen_q = images_df[images_df['filename'] == imagen_q_name].iloc[0]\n",
    "\n",
    "print(\"La imagen de la query es: \", imagen_q)\n",
    "\n",
    "image_link = imagen_q['link']\n",
    "print(\"Link de la imagen:\", image_link)\n",
    "\n",
    "# Realizar la búsqueda KNN usando similitud de coseno\n",
    "k = 5\n",
    "resultados = KnnSearchCoseno(embeddings, query, k)\n",
    "\n",
    "print(f\"Las {k} imágenes más cercanas a {image_names[query_index]} son:\")\n",
    "\n",
    "for img_name, sim in resultados:\n",
    "    print(f\"Imagen: {img_name}, Similitud: {sim}\")\n",
    "    image_row = images_df[images_df['filename'] == img_name]\n",
    "    if not image_row.empty:\n",
    "        print(\"Link de la imagen:\", image_row['link'].values[0])"
   ]
  }
 ],
 "metadata": {
  "kernelspec": {
   "display_name": "Python 3",
   "language": "python",
   "name": "python3"
  },
  "language_info": {
   "codemirror_mode": {
    "name": "ipython",
    "version": 3
   },
   "file_extension": ".py",
   "mimetype": "text/x-python",
   "name": "python",
   "nbconvert_exporter": "python",
   "pygments_lexer": "ipython3",
   "version": "3.10.6"
  }
 },
 "nbformat": 4,
 "nbformat_minor": 2
}
