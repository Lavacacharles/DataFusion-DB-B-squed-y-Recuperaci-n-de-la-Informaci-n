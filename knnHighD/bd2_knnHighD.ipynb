{
  "nbformat": 4,
  "nbformat_minor": 0,
  "metadata": {
    "colab": {
      "provenance": [],
      "gpuType": "T4"
    },
    "kernelspec": {
      "name": "python3",
      "display_name": "Python 3"
    },
    "language_info": {
      "name": "python"
    },
    "accelerator": "GPU"
  },
  "cells": [
    {
      "cell_type": "markdown",
      "source": [
        "\n",
        "# Cargando datos\n"
      ],
      "metadata": {
        "id": "mi99F1gi9N5B"
      }
    },
    {
      "cell_type": "code",
      "source": [
        "from google.colab import drive\n",
        "import pickle\n",
        "import numpy as np\n",
        "\n",
        "drive.mount('/content/drive')"
      ],
      "metadata": {
        "id": "mGzJ35vOSgOY",
        "colab": {
          "base_uri": "https://localhost:8080/"
        },
        "outputId": "6466518b-c1db-42b0-8f9a-bde61111c302"
      },
      "execution_count": 1,
      "outputs": [
        {
          "output_type": "stream",
          "name": "stdout",
          "text": [
            "Drive already mounted at /content/drive; to attempt to forcibly remount, call drive.mount(\"/content/drive\", force_remount=True).\n"
          ]
        }
      ]
    },
    {
      "cell_type": "code",
      "source": [
        "dataset_path = \"/content/drive/MyDrive/dataset/the_last_one.pkl\""
      ],
      "metadata": {
        "id": "w1Ugm_cmSi0v"
      },
      "execution_count": 2,
      "outputs": []
    },
    {
      "cell_type": "code",
      "source": [
        "# Open a file and use dump()\n",
        "with open(dataset_path, 'rb') as file:\n",
        "    # A new file will be created\n",
        "    dataset_nested = pickle.load(file)"
      ],
      "metadata": {
        "id": "9EDxW4aVTC_H"
      },
      "execution_count": 19,
      "outputs": []
    },
    {
      "cell_type": "code",
      "source": [
        "image_names = []\n",
        "feature_vectors = []\n",
        "\n",
        "for i in dataset_nested:\n",
        "  if len(i[\"embedding\"]) == 0:\n",
        "    continue\n",
        "  image_names.append(i[\"image_name\"])\n",
        "  feature_vectors.append(i[\"embedding\"][0])\n",
        "\n",
        "feature_vectors = np.array(feature_vectors)\n",
        "feature_vectors = feature_vectors.astype('float32')"
      ],
      "metadata": {
        "id": "onJTvz1HWdd9"
      },
      "execution_count": 20,
      "outputs": []
    },
    {
      "cell_type": "code",
      "source": [
        "query_vectors = feature_vectors[:4]\n",
        "query_names = image_names[:4]\n",
        "d = query_vectors.shape[1]"
      ],
      "metadata": {
        "id": "20zm4l1pcIR3"
      },
      "execution_count": 5,
      "outputs": []
    },
    {
      "cell_type": "code",
      "source": [
        "!pip install faiss-gpu"
      ],
      "metadata": {
        "colab": {
          "base_uri": "https://localhost:8080/"
        },
        "id": "6QsYEgTVhCQJ",
        "outputId": "85aaa836-7216-4371-bfce-3c9e3f25a3bb"
      },
      "execution_count": 6,
      "outputs": [
        {
          "output_type": "stream",
          "name": "stdout",
          "text": [
            "Requirement already satisfied: faiss-gpu in /usr/local/lib/python3.10/dist-packages (1.7.2)\n"
          ]
        }
      ]
    },
    {
      "cell_type": "markdown",
      "source": [
        "# Creando índice"
      ],
      "metadata": {
        "id": "8vPo7MZj9XkI"
      }
    },
    {
      "cell_type": "code",
      "source": [
        "import faiss"
      ],
      "metadata": {
        "id": "npYBBNA7gppB"
      },
      "execution_count": 7,
      "outputs": []
    },
    {
      "cell_type": "code",
      "source": [
        "res = faiss.StandardGpuResources()  # use a single GPU"
      ],
      "metadata": {
        "id": "XvjjxP6rjgUK"
      },
      "execution_count": 8,
      "outputs": []
    },
    {
      "cell_type": "code",
      "source": [
        "# Normalize to use cosine similarity\n",
        "faiss.normalize_L2(feature_vectors)\n",
        "faiss.normalize_L2(query_vectors)"
      ],
      "metadata": {
        "id": "ZSCL1Y4AzP1z"
      },
      "execution_count": 9,
      "outputs": []
    },
    {
      "cell_type": "code",
      "source": [
        "## Using an IVF index\n",
        "nlist = 100\n",
        "quantizer = faiss.IndexFlatIP(d)  # the cpu index\n",
        "index_ivf = faiss.IndexIVFFlat(quantizer, d, nlist, faiss.METRIC_INNER_PRODUCT)\n",
        "\n",
        "# make it an IVF GPU index\n",
        "gpu_index_ivf = faiss.index_cpu_to_gpu(res, 0, index_ivf)\n"
      ],
      "metadata": {
        "id": "AnEzcsrZgxpq"
      },
      "execution_count": 11,
      "outputs": []
    },
    {
      "cell_type": "code",
      "source": [
        "if not gpu_index_ivf.is_trained:\n",
        "  # train with the vectors. Needs to be done because the gpu is used\n",
        "  gpu_index_ivf.train(feature_vectors)\n",
        "\n",
        "gpu_index_ivf.add(feature_vectors)          # add vectors to the index"
      ],
      "metadata": {
        "id": "iK5mEiorhXoe"
      },
      "execution_count": 12,
      "outputs": []
    },
    {
      "cell_type": "markdown",
      "source": [
        "# Realizando búsqueda"
      ],
      "metadata": {
        "id": "clX0wUNI9dmg"
      }
    },
    {
      "cell_type": "code",
      "source": [
        "k = 4                          # we want to see 4 nearest neighbors\n",
        "D, I = gpu_index_ivf.search(query_vectors, k)  # actual search\n",
        "print(I.shape)\n",
        "print(I)"
      ],
      "metadata": {
        "colab": {
          "base_uri": "https://localhost:8080/"
        },
        "id": "yFn1HGsJjbq9",
        "outputId": "72df1a94-9bc3-40d0-8f6d-19940041e116"
      },
      "execution_count": 13,
      "outputs": [
        {
          "output_type": "stream",
          "name": "stdout",
          "text": [
            "(4, 4)\n",
            "[[    0  7329 16872 36584]\n",
            " [    1 12010 17530 15878]\n",
            " [    2 19800  1144 17921]\n",
            " [    3 26632  3765 36271]]\n"
          ]
        }
      ]
    },
    {
      "cell_type": "markdown",
      "source": [
        "# Devolviendo paths de imagenes"
      ],
      "metadata": {
        "id": "z6G3NjjQ9iN_"
      }
    },
    {
      "cell_type": "code",
      "source": [
        "# Map indices to image names\n",
        "paths = []\n",
        "for query_idx, neighbors in enumerate(I):\n",
        "    print(f\"Query Image: {query_names[query_idx]}\")\n",
        "    current = []\n",
        "    for rank, neighbor_idx in enumerate(neighbors):\n",
        "      current.append(image_names[neighbor_idx])\n",
        "      print(f\"  Rank {rank + 1}: {image_names[neighbor_idx]} (Index: {neighbor_idx})\")\n",
        "    # La primera imagen es la misma, así que no lo contamos\n",
        "    paths.append(current[1:])\n",
        "    print()"
      ],
      "metadata": {
        "colab": {
          "base_uri": "https://localhost:8080/"
        },
        "id": "WnNmG9zMdctP",
        "outputId": "7d31e439-be73-4d07-aaa4-75af9ec0b304"
      },
      "execution_count": 14,
      "outputs": [
        {
          "output_type": "stream",
          "name": "stdout",
          "text": [
            "Query Image: 15970.jpg\n",
            "  Rank 1: 15970.jpg (Index: 0)\n",
            "  Rank 2: 20314.jpg (Index: 7329)\n",
            "  Rank 3: 33060.jpg (Index: 16872)\n",
            "  Rank 4: 20154.jpg (Index: 36584)\n",
            "\n",
            "Query Image: 39386.jpg\n",
            "  Rank 1: 39386.jpg (Index: 1)\n",
            "  Rank 2: 24755.jpg (Index: 12010)\n",
            "  Rank 3: 30412.jpg (Index: 17530)\n",
            "  Rank 4: 58411.jpg (Index: 15878)\n",
            "\n",
            "Query Image: 59263.jpg\n",
            "  Rank 1: 59263.jpg (Index: 2)\n",
            "  Rank 2: 49870.jpg (Index: 19800)\n",
            "  Rank 3: 37488.jpg (Index: 1144)\n",
            "  Rank 4: 49871.jpg (Index: 17921)\n",
            "\n",
            "Query Image: 21379.jpg\n",
            "  Rank 1: 21379.jpg (Index: 3)\n",
            "  Rank 2: 21381.jpg (Index: 26632)\n",
            "  Rank 3: 34202.jpg (Index: 3765)\n",
            "  Rank 4: 14392.jpg (Index: 36271)\n",
            "\n"
          ]
        }
      ]
    },
    {
      "cell_type": "code",
      "source": [
        "paths"
      ],
      "metadata": {
        "colab": {
          "base_uri": "https://localhost:8080/"
        },
        "id": "YN4FJdt-j8XH",
        "outputId": "5a2b44ed-d4c3-46fc-febe-3c4e4905e901"
      },
      "execution_count": 15,
      "outputs": [
        {
          "output_type": "execute_result",
          "data": {
            "text/plain": [
              "[['20314.jpg', '33060.jpg', '20154.jpg'],\n",
              " ['24755.jpg', '30412.jpg', '58411.jpg'],\n",
              " ['49870.jpg', '37488.jpg', '49871.jpg'],\n",
              " ['21381.jpg', '34202.jpg', '14392.jpg']]"
            ]
          },
          "metadata": {},
          "execution_count": 15
        }
      ]
    },
    {
      "cell_type": "markdown",
      "source": [
        "# Guardando índice"
      ],
      "metadata": {
        "id": "llG1YstJ9qvE"
      }
    },
    {
      "cell_type": "code",
      "source": [
        "cpu_index = faiss.index_gpu_to_cpu(gpu_index_ivf)\n",
        "\n",
        "faiss.write_index(cpu_index, \"/content/drive/MyDrive/dataset/index.faiss\")\n",
        "\n",
        "with open(\"/content/drive/MyDrive/dataset/image_names.pkl\", \"wb\") as file:\n",
        "  pickle.dump(image_names, file)\n"
      ],
      "metadata": {
        "id": "H4ximf3FmYcx"
      },
      "execution_count": 18,
      "outputs": []
    },
    {
      "cell_type": "code",
      "source": [],
      "metadata": {
        "id": "O8ibNFKoztqr"
      },
      "execution_count": 16,
      "outputs": []
    },
    {
      "cell_type": "code",
      "source": [],
      "metadata": {
        "id": "aT1Wc0pK2KqT"
      },
      "execution_count": 16,
      "outputs": []
    }
  ]
}