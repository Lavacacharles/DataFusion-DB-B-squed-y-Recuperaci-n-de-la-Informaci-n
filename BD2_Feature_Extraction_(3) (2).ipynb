{
  "nbformat": 4,
  "nbformat_minor": 0,
  "metadata": {
    "colab": {
      "provenance": [],
      "gpuType": "T4"
    },
    "kernelspec": {
      "name": "python3",
      "display_name": "Python 3"
    },
    "language_info": {
      "name": "python"
    },
    "accelerator": "GPU"
  },
  "cells": [
    {
      "cell_type": "markdown",
      "source": [
        "## instalar librerias"
      ],
      "metadata": {
        "id": "T4xWIhQ4RAwV"
      }
    },
    {
      "cell_type": "code",
      "source": [
        "!pip install omegaconf==2.1.1"
      ],
      "metadata": {
        "colab": {
          "base_uri": "https://localhost:8080/"
        },
        "id": "7LhZx_rgmUPq",
        "outputId": "d2b96fc5-7fb3-4910-e68b-5fcca9341c9a"
      },
      "execution_count": 1,
      "outputs": [
        {
          "output_type": "stream",
          "name": "stdout",
          "text": [
            "Requirement already satisfied: omegaconf==2.1.1 in /usr/local/lib/python3.10/dist-packages (2.1.1)\n",
            "Requirement already satisfied: antlr4-python3-runtime==4.8 in /usr/local/lib/python3.10/dist-packages (from omegaconf==2.1.1) (4.8)\n",
            "Requirement already satisfied: PyYAML>=5.1.0 in /usr/local/lib/python3.10/dist-packages (from omegaconf==2.1.1) (6.0.2)\n"
          ]
        }
      ]
    },
    {
      "cell_type": "code",
      "execution_count": 1,
      "metadata": {
        "id": "Q2iH0oB6_kj6",
        "colab": {
          "base_uri": "https://localhost:8080/"
        },
        "outputId": "39a979d5-e1c1-477a-aa98-0c2afbfcf8e7"
      },
      "outputs": [
        {
          "output_type": "stream",
          "name": "stdout",
          "text": [
            "Cloning into 'video_features'...\n",
            "remote: Enumerating objects: 1446, done.\u001b[K\n",
            "remote: Counting objects: 100% (399/399), done.\u001b[K\n",
            "remote: Compressing objects: 100% (141/141), done.\u001b[K\n",
            "remote: Total 1446 (delta 306), reused 279 (delta 244), pack-reused 1047 (from 1)\u001b[K\n",
            "Receiving objects: 100% (1446/1446), 288.83 MiB | 15.67 MiB/s, done.\n",
            "Resolving deltas: 100% (790/790), done.\n",
            "Updating files: 100% (100/100), done.\n"
          ]
        }
      ],
      "source": [
        "! git clone https://github.com/v-iashin/video_features.git"
      ]
    },
    {
      "cell_type": "markdown",
      "source": [
        "## Decargamos los datos"
      ],
      "metadata": {
        "id": "lNfqItG-RM4j"
      }
    },
    {
      "cell_type": "code",
      "source": [
        "import kagglehub\n",
        "\n",
        "path = kagglehub.dataset_download(\"paramaggarwal/fashion-product-images-dataset\")\n",
        "\n",
        "print(\"Path to dataset files:\", path)"
      ],
      "metadata": {
        "colab": {
          "base_uri": "https://localhost:8080/"
        },
        "id": "Sru6H5O2tYhw",
        "outputId": "bb850e94-ccc1-4f0a-d9a4-50ef14e9bd57"
      },
      "execution_count": null,
      "outputs": [
        {
          "output_type": "stream",
          "name": "stdout",
          "text": [
            "Downloading from https://www.kaggle.com/api/v1/datasets/download/paramaggarwal/fashion-product-images-dataset?dataset_version_number=1...\n"
          ]
        },
        {
          "output_type": "stream",
          "name": "stderr",
          "text": [
            " 70%|██████▉   | 16.1G/23.1G [13:05<05:09, 24.1MB/s]"
          ]
        }
      ]
    },
    {
      "cell_type": "markdown",
      "source": [
        "## Folder donde se guardaron los datos"
      ],
      "metadata": {
        "id": "aC4cFztoRZsM"
      }
    },
    {
      "cell_type": "code",
      "source": [
        "import shutil\n",
        "import os\n",
        "import pandas as pd"
      ],
      "metadata": {
        "id": "2roFo0eYvNjf"
      },
      "execution_count": null,
      "outputs": []
    },
    {
      "cell_type": "code",
      "source": [
        "path_dataset = os.path.join(path,'fashion-dataset')\n",
        "path_dataset_images_csv = os.path.join(path,'fashion-dataset','images.csv')\n",
        "path_dataset_images = os.path.join(path,'fashion-dataset','images')"
      ],
      "metadata": {
        "id": "5zbL-qeCRRzr"
      },
      "execution_count": null,
      "outputs": []
    },
    {
      "cell_type": "markdown",
      "source": [
        "## Revisamos los datos"
      ],
      "metadata": {
        "id": "oL18TCQoRnWA"
      }
    },
    {
      "cell_type": "code",
      "source": [
        "list_images = os.listdir(path_dataset_images)\n",
        "print(len(list_images))"
      ],
      "metadata": {
        "colab": {
          "base_uri": "https://localhost:8080/"
        },
        "id": "xDexauYrRjaD",
        "outputId": "25ac9455-bda6-4eef-f2e9-d8d7f7b9ebe6"
      },
      "execution_count": 6,
      "outputs": [
        {
          "output_type": "stream",
          "name": "stdout",
          "text": [
            "44441\n"
          ]
        }
      ]
    },
    {
      "cell_type": "code",
      "source": [
        "from google.colab import drive\n",
        "drive.mount('/content/drive')"
      ],
      "metadata": {
        "colab": {
          "base_uri": "https://localhost:8080/"
        },
        "id": "JtY_TURK9WQS",
        "outputId": "0db5c14d-f830-4a0e-85c9-68af325086de"
      },
      "execution_count": 7,
      "outputs": [
        {
          "output_type": "stream",
          "name": "stdout",
          "text": [
            "Mounted at /content/drive\n"
          ]
        }
      ]
    },
    {
      "cell_type": "code",
      "source": [
        "len(list_images)"
      ],
      "metadata": {
        "colab": {
          "base_uri": "https://localhost:8080/"
        },
        "id": "X-Xf0mYgemvl",
        "outputId": "f161e4ee-cefd-4a60-bb07-c675bd7fc7a4"
      },
      "execution_count": null,
      "outputs": [
        {
          "output_type": "execute_result",
          "data": {
            "text/plain": [
              "44441"
            ]
          },
          "metadata": {},
          "execution_count": 76
        }
      ]
    },
    {
      "cell_type": "markdown",
      "source": [
        "## Nos movemos al folder del repositorio"
      ],
      "metadata": {
        "id": "hbWgRJuaRCub"
      }
    },
    {
      "cell_type": "code",
      "source": [
        "%cd video_features"
      ],
      "metadata": {
        "colab": {
          "base_uri": "https://localhost:8080/"
        },
        "id": "ydMRwvqA5ZAI",
        "outputId": "16a023ad-272a-4b87-85da-174205a88313"
      },
      "execution_count": null,
      "outputs": [
        {
          "output_type": "stream",
          "name": "stdout",
          "text": [
            "/content/video_features\n"
          ]
        }
      ]
    },
    {
      "cell_type": "markdown",
      "source": [
        "## Declaramos RESNET"
      ],
      "metadata": {
        "id": "8A0UXQoERGkH"
      }
    },
    {
      "cell_type": "code",
      "source": [
        "from models.resnet.extract_resnet import ExtractResNet\n",
        "from utils.utils import build_cfg_path\n",
        "from omegaconf import OmegaConf\n",
        "import torch\n",
        "\n",
        "device = 'cuda' if torch.cuda.is_available() else 'cpu'\n",
        "torch.cuda.get_device_name(0)"
      ],
      "metadata": {
        "colab": {
          "base_uri": "https://localhost:8080/",
          "height": 36
        },
        "id": "Pi3DWqbJ5Y9x",
        "outputId": "5e3fc3db-fd6a-4ae8-b23c-8a5709f31794"
      },
      "execution_count": null,
      "outputs": [
        {
          "output_type": "execute_result",
          "data": {
            "text/plain": [
              "'Tesla T4'"
            ],
            "application/vnd.google.colaboratory.intrinsic+json": {
              "type": "string"
            }
          },
          "metadata": {},
          "execution_count": 91
        }
      ]
    },
    {
      "cell_type": "markdown",
      "source": [
        "## Conectamos con un folder de drive"
      ],
      "metadata": {
        "id": "HFPtj7BpZuua"
      }
    },
    {
      "cell_type": "code",
      "source": [
        "base_path = '/content/drive/MyDrive'\n",
        "os.listdir(base_path)"
      ],
      "metadata": {
        "colab": {
          "base_uri": "https://localhost:8080/"
        },
        "id": "snkSb93jipAy",
        "outputId": "3910cadc-aae5-4260-c92f-b8539eb1e5f7"
      },
      "execution_count": 9,
      "outputs": [
        {
          "output_type": "execute_result",
          "data": {
            "text/plain": [
              "['Colab Notebooks', 'ML_P3_Videos', 'Data_procesada', 'dataset']"
            ]
          },
          "metadata": {},
          "execution_count": 9
        }
      ]
    },
    {
      "cell_type": "markdown",
      "source": [
        "## Declaramos el folder para dejar los embeddings"
      ],
      "metadata": {
        "id": "yyDayWaZZyQZ"
      }
    },
    {
      "cell_type": "code",
      "source": [
        "dataset_folder = os.path.join(base_path,\"dataset\")\n",
        "dataset_folder_input = os.path.join(dataset_folder, \"input\")\n",
        "dataset_folder_output = os.path.join(dataset_folder, \"output\")\n",
        "\n",
        "\n",
        "print(dataset_folder)\n",
        "print(dataset_folder_input)\n",
        "print(dataset_folder_output)"
      ],
      "metadata": {
        "colab": {
          "base_uri": "https://localhost:8080/"
        },
        "id": "2AoKFdSOjoLz",
        "outputId": "b21558a8-d988-4fae-fdf5-aba9f6c0bfd9"
      },
      "execution_count": 10,
      "outputs": [
        {
          "output_type": "stream",
          "name": "stdout",
          "text": [
            "/content/drive/MyDrive/dataset\n",
            "/content/drive/MyDrive/dataset/input\n",
            "/content/drive/MyDrive/dataset/output\n"
          ]
        }
      ]
    },
    {
      "cell_type": "markdown",
      "source": [
        "## Crear folders"
      ],
      "metadata": {
        "id": "yql9X1ulZ3LB"
      }
    },
    {
      "cell_type": "code",
      "source": [
        "if not os.path.exists(dataset_folder):\n",
        "  os.makedirs(dataset_folder, exist_ok=True)\n",
        "if not os.path.exists(dataset_folder_input):\n",
        "  os.makedirs(dataset_folder_input, exist_ok=True)\n",
        "if not os.path.exists(dataset_folder_output):\n",
        "  os.makedirs(dataset_folder_output, exist_ok=True)"
      ],
      "metadata": {
        "id": "a4sdXLdk8bJd"
      },
      "execution_count": null,
      "outputs": []
    },
    {
      "cell_type": "markdown",
      "source": [
        "## Configuramos la extracción de características\n"
      ],
      "metadata": {
        "id": "a34MAik0g33x"
      }
    },
    {
      "cell_type": "code",
      "source": [
        "path_list_images = [os.path.join(path_dataset_images, image_name) for image_name in list_images]\n",
        "\n",
        "# Select the feature type\n",
        "feature_type = 'resnet'\n",
        "model_name = 'resnet152'\n",
        "\n",
        "# Load and patch the config\n",
        "args = OmegaConf.load(build_cfg_path(feature_type))\n",
        "args.feature_type = feature_type\n",
        "args.model_name = model_name\n",
        "args.video_paths = path_list_images\n",
        "args.batch_size = 32\n",
        "# args.extraction_fps = 1\n",
        "# args.show_pred = True\n",
        "\n",
        "extractor = ExtractResNet(args)\n"
      ],
      "metadata": {
        "id": "SPEo5G5kg95d"
      },
      "execution_count": null,
      "outputs": []
    },
    {
      "cell_type": "markdown",
      "source": [
        "## Declaramos el archivo de embeddings"
      ],
      "metadata": {
        "id": "8I1G09cMhoNr"
      }
    },
    {
      "cell_type": "code",
      "source": [
        "save_path = os.path.join(dataset_folder_output, 'v_temp.pkl')"
      ],
      "metadata": {
        "id": "8wD0rqDBhqjC"
      },
      "execution_count": null,
      "outputs": []
    },
    {
      "cell_type": "markdown",
      "source": [
        "## Generamos los embeddings"
      ],
      "metadata": {
        "id": "9vcYL0LLhq3I"
      }
    },
    {
      "cell_type": "code",
      "source": [
        "features_list = []\n",
        "current_image = 0\n",
        "for video_path in args.video_paths:\n",
        "\n",
        "#--------------------- Guardamos cada 500 embeddings creados --------------------#\n",
        "  if len(features_list) % 500 == 0:\n",
        "    current_image += len(features_list)\n",
        "    with open(save_path + \"_\"+ str(current_image), 'wb') as f:\n",
        "      pickle.dump(features_list, f)\n",
        "    features_list = []\n",
        "\n",
        "  feature_dict = extractor.extract(video_path)\n",
        "  features_list.append({\n",
        "      'image_name':video_path.split('/')[-1],\n",
        "      'embedding': feature_dict['resnet']\n",
        "  })\n",
        "#--------------------- Guardamos cada los últimos embeddings --------------------#\n",
        "current_image += len(features_list)\n",
        "with open(save_path + \"_\"+ str(current_image), 'wb') as f:\n",
        "  pickle.dump(features_list, f)\n",
        ""
      ],
      "metadata": {
        "id": "SnIb9beahT8a"
      },
      "execution_count": null,
      "outputs": []
    },
    {
      "cell_type": "markdown",
      "source": [
        "## Cargar embeddings ya creados"
      ],
      "metadata": {
        "id": "xfVu2jKbZ5NC"
      }
    },
    {
      "cell_type": "code",
      "source": [
        "import pickle\n",
        "path_files = ['the_last_one.pkl']\n",
        "dict_features = []\n",
        "for path in path_files:\n",
        "  with open(os.path.join(dataset_folder, path), 'rb') as f:\n",
        "    data_loaded = pickle.load(f)\n",
        "    dict_features = dict_features + data_loaded"
      ],
      "metadata": {
        "id": "4RLrK-aVWJNP"
      },
      "execution_count": 26,
      "outputs": []
    },
    {
      "cell_type": "markdown",
      "source": [
        "## Revisamos nombres"
      ],
      "metadata": {
        "id": "C-gabPgAZ9EC"
      }
    },
    {
      "cell_type": "code",
      "source": [
        "list_image_names = [feature['image_name'] for feature in dict_features]\n",
        "reps = pd.Series(list_image_names).value_counts()\n",
        "reps_2 = reps[reps > 1]\n",
        "len(dict_features)\n",
        "len(dict_features)\n",
        "print(len(reps))\n",
        "print(len(reps_2))"
      ],
      "metadata": {
        "id": "_H8Y7P61VUbn"
      },
      "execution_count": 30,
      "outputs": []
    },
    {
      "cell_type": "markdown",
      "source": [
        "## Revisamos duplicados"
      ],
      "metadata": {
        "id": "5_busLZ-aAcA"
      }
    },
    {
      "cell_type": "code",
      "source": [
        "list_image_shapes = [{'shape':feature['embedding'].shape, 'image_name': feature['image_name']} for feature in dict_features]\n",
        "reps = pd.DataFrame(list_image_shapes)['shape'].value_counts()\n",
        "reps_2 = reps[reps > 1]\n",
        "len(dict_features)\n",
        "print(len(reps))\n",
        "print(len(reps_2))"
      ],
      "metadata": {
        "colab": {
          "base_uri": "https://localhost:8080/"
        },
        "id": "5lWbQwDYX1jY",
        "outputId": "6918542a-3b0f-4c33-9909-baf76b23905f"
      },
      "execution_count": 50,
      "outputs": [
        {
          "output_type": "stream",
          "name": "stdout",
          "text": [
            "2\n",
            "2\n"
          ]
        }
      ]
    },
    {
      "cell_type": "markdown",
      "source": [
        "## Mapeamos duplicados"
      ],
      "metadata": {
        "id": "URrPI4L7aCrB"
      }
    },
    {
      "cell_type": "code",
      "source": [
        "shapes_images = pd.DataFrame(list_image_shapes)\n",
        "reps_shapes_images = shapes_images[shapes_images['shape'] == (0,)]\n",
        "reps_shapes_images_idx = reps_shapes_images.index"
      ],
      "metadata": {
        "id": "-NAH7KL8YA5b"
      },
      "execution_count": 52,
      "outputs": []
    },
    {
      "cell_type": "code",
      "source": [
        "shapes_images_vacio = shapes_images.iloc[reps_shapes_images_idx]\n",
        "shapes_images_vacio"
      ],
      "metadata": {
        "colab": {
          "base_uri": "https://localhost:8080/",
          "height": 206
        },
        "id": "vSDOnPjVYoaI",
        "outputId": "8f894c45-fed7-43a5-c909-b6eab58c97d5"
      },
      "execution_count": 55,
      "outputs": [
        {
          "output_type": "execute_result",
          "data": {
            "text/plain": [
              "      shape image_name\n",
              "6697   (0,)  39403.jpg\n",
              "16207  (0,)  39410.jpg\n",
              "32324  (0,)  39401.jpg\n",
              "36399  (0,)  39425.jpg\n",
              "40022  (0,)  12347.jpg"
            ],
            "text/html": [
              "\n",
              "  <div id=\"df-b1bc017f-5934-42ad-8f00-a005c413419f\" class=\"colab-df-container\">\n",
              "    <div>\n",
              "<style scoped>\n",
              "    .dataframe tbody tr th:only-of-type {\n",
              "        vertical-align: middle;\n",
              "    }\n",
              "\n",
              "    .dataframe tbody tr th {\n",
              "        vertical-align: top;\n",
              "    }\n",
              "\n",
              "    .dataframe thead th {\n",
              "        text-align: right;\n",
              "    }\n",
              "</style>\n",
              "<table border=\"1\" class=\"dataframe\">\n",
              "  <thead>\n",
              "    <tr style=\"text-align: right;\">\n",
              "      <th></th>\n",
              "      <th>shape</th>\n",
              "      <th>image_name</th>\n",
              "    </tr>\n",
              "  </thead>\n",
              "  <tbody>\n",
              "    <tr>\n",
              "      <th>6697</th>\n",
              "      <td>(0,)</td>\n",
              "      <td>39403.jpg</td>\n",
              "    </tr>\n",
              "    <tr>\n",
              "      <th>16207</th>\n",
              "      <td>(0,)</td>\n",
              "      <td>39410.jpg</td>\n",
              "    </tr>\n",
              "    <tr>\n",
              "      <th>32324</th>\n",
              "      <td>(0,)</td>\n",
              "      <td>39401.jpg</td>\n",
              "    </tr>\n",
              "    <tr>\n",
              "      <th>36399</th>\n",
              "      <td>(0,)</td>\n",
              "      <td>39425.jpg</td>\n",
              "    </tr>\n",
              "    <tr>\n",
              "      <th>40022</th>\n",
              "      <td>(0,)</td>\n",
              "      <td>12347.jpg</td>\n",
              "    </tr>\n",
              "  </tbody>\n",
              "</table>\n",
              "</div>\n",
              "    <div class=\"colab-df-buttons\">\n",
              "\n",
              "  <div class=\"colab-df-container\">\n",
              "    <button class=\"colab-df-convert\" onclick=\"convertToInteractive('df-b1bc017f-5934-42ad-8f00-a005c413419f')\"\n",
              "            title=\"Convert this dataframe to an interactive table.\"\n",
              "            style=\"display:none;\">\n",
              "\n",
              "  <svg xmlns=\"http://www.w3.org/2000/svg\" height=\"24px\" viewBox=\"0 -960 960 960\">\n",
              "    <path d=\"M120-120v-720h720v720H120Zm60-500h600v-160H180v160Zm220 220h160v-160H400v160Zm0 220h160v-160H400v160ZM180-400h160v-160H180v160Zm440 0h160v-160H620v160ZM180-180h160v-160H180v160Zm440 0h160v-160H620v160Z\"/>\n",
              "  </svg>\n",
              "    </button>\n",
              "\n",
              "  <style>\n",
              "    .colab-df-container {\n",
              "      display:flex;\n",
              "      gap: 12px;\n",
              "    }\n",
              "\n",
              "    .colab-df-convert {\n",
              "      background-color: #E8F0FE;\n",
              "      border: none;\n",
              "      border-radius: 50%;\n",
              "      cursor: pointer;\n",
              "      display: none;\n",
              "      fill: #1967D2;\n",
              "      height: 32px;\n",
              "      padding: 0 0 0 0;\n",
              "      width: 32px;\n",
              "    }\n",
              "\n",
              "    .colab-df-convert:hover {\n",
              "      background-color: #E2EBFA;\n",
              "      box-shadow: 0px 1px 2px rgba(60, 64, 67, 0.3), 0px 1px 3px 1px rgba(60, 64, 67, 0.15);\n",
              "      fill: #174EA6;\n",
              "    }\n",
              "\n",
              "    .colab-df-buttons div {\n",
              "      margin-bottom: 4px;\n",
              "    }\n",
              "\n",
              "    [theme=dark] .colab-df-convert {\n",
              "      background-color: #3B4455;\n",
              "      fill: #D2E3FC;\n",
              "    }\n",
              "\n",
              "    [theme=dark] .colab-df-convert:hover {\n",
              "      background-color: #434B5C;\n",
              "      box-shadow: 0px 1px 3px 1px rgba(0, 0, 0, 0.15);\n",
              "      filter: drop-shadow(0px 1px 2px rgba(0, 0, 0, 0.3));\n",
              "      fill: #FFFFFF;\n",
              "    }\n",
              "  </style>\n",
              "\n",
              "    <script>\n",
              "      const buttonEl =\n",
              "        document.querySelector('#df-b1bc017f-5934-42ad-8f00-a005c413419f button.colab-df-convert');\n",
              "      buttonEl.style.display =\n",
              "        google.colab.kernel.accessAllowed ? 'block' : 'none';\n",
              "\n",
              "      async function convertToInteractive(key) {\n",
              "        const element = document.querySelector('#df-b1bc017f-5934-42ad-8f00-a005c413419f');\n",
              "        const dataTable =\n",
              "          await google.colab.kernel.invokeFunction('convertToInteractive',\n",
              "                                                    [key], {});\n",
              "        if (!dataTable) return;\n",
              "\n",
              "        const docLinkHtml = 'Like what you see? Visit the ' +\n",
              "          '<a target=\"_blank\" href=https://colab.research.google.com/notebooks/data_table.ipynb>data table notebook</a>'\n",
              "          + ' to learn more about interactive tables.';\n",
              "        element.innerHTML = '';\n",
              "        dataTable['output_type'] = 'display_data';\n",
              "        await google.colab.output.renderOutput(dataTable, element);\n",
              "        const docLink = document.createElement('div');\n",
              "        docLink.innerHTML = docLinkHtml;\n",
              "        element.appendChild(docLink);\n",
              "      }\n",
              "    </script>\n",
              "  </div>\n",
              "\n",
              "\n",
              "<div id=\"df-c72cd617-af35-41a3-bb26-c5eabecc4ec0\">\n",
              "  <button class=\"colab-df-quickchart\" onclick=\"quickchart('df-c72cd617-af35-41a3-bb26-c5eabecc4ec0')\"\n",
              "            title=\"Suggest charts\"\n",
              "            style=\"display:none;\">\n",
              "\n",
              "<svg xmlns=\"http://www.w3.org/2000/svg\" height=\"24px\"viewBox=\"0 0 24 24\"\n",
              "     width=\"24px\">\n",
              "    <g>\n",
              "        <path d=\"M19 3H5c-1.1 0-2 .9-2 2v14c0 1.1.9 2 2 2h14c1.1 0 2-.9 2-2V5c0-1.1-.9-2-2-2zM9 17H7v-7h2v7zm4 0h-2V7h2v10zm4 0h-2v-4h2v4z\"/>\n",
              "    </g>\n",
              "</svg>\n",
              "  </button>\n",
              "\n",
              "<style>\n",
              "  .colab-df-quickchart {\n",
              "      --bg-color: #E8F0FE;\n",
              "      --fill-color: #1967D2;\n",
              "      --hover-bg-color: #E2EBFA;\n",
              "      --hover-fill-color: #174EA6;\n",
              "      --disabled-fill-color: #AAA;\n",
              "      --disabled-bg-color: #DDD;\n",
              "  }\n",
              "\n",
              "  [theme=dark] .colab-df-quickchart {\n",
              "      --bg-color: #3B4455;\n",
              "      --fill-color: #D2E3FC;\n",
              "      --hover-bg-color: #434B5C;\n",
              "      --hover-fill-color: #FFFFFF;\n",
              "      --disabled-bg-color: #3B4455;\n",
              "      --disabled-fill-color: #666;\n",
              "  }\n",
              "\n",
              "  .colab-df-quickchart {\n",
              "    background-color: var(--bg-color);\n",
              "    border: none;\n",
              "    border-radius: 50%;\n",
              "    cursor: pointer;\n",
              "    display: none;\n",
              "    fill: var(--fill-color);\n",
              "    height: 32px;\n",
              "    padding: 0;\n",
              "    width: 32px;\n",
              "  }\n",
              "\n",
              "  .colab-df-quickchart:hover {\n",
              "    background-color: var(--hover-bg-color);\n",
              "    box-shadow: 0 1px 2px rgba(60, 64, 67, 0.3), 0 1px 3px 1px rgba(60, 64, 67, 0.15);\n",
              "    fill: var(--button-hover-fill-color);\n",
              "  }\n",
              "\n",
              "  .colab-df-quickchart-complete:disabled,\n",
              "  .colab-df-quickchart-complete:disabled:hover {\n",
              "    background-color: var(--disabled-bg-color);\n",
              "    fill: var(--disabled-fill-color);\n",
              "    box-shadow: none;\n",
              "  }\n",
              "\n",
              "  .colab-df-spinner {\n",
              "    border: 2px solid var(--fill-color);\n",
              "    border-color: transparent;\n",
              "    border-bottom-color: var(--fill-color);\n",
              "    animation:\n",
              "      spin 1s steps(1) infinite;\n",
              "  }\n",
              "\n",
              "  @keyframes spin {\n",
              "    0% {\n",
              "      border-color: transparent;\n",
              "      border-bottom-color: var(--fill-color);\n",
              "      border-left-color: var(--fill-color);\n",
              "    }\n",
              "    20% {\n",
              "      border-color: transparent;\n",
              "      border-left-color: var(--fill-color);\n",
              "      border-top-color: var(--fill-color);\n",
              "    }\n",
              "    30% {\n",
              "      border-color: transparent;\n",
              "      border-left-color: var(--fill-color);\n",
              "      border-top-color: var(--fill-color);\n",
              "      border-right-color: var(--fill-color);\n",
              "    }\n",
              "    40% {\n",
              "      border-color: transparent;\n",
              "      border-right-color: var(--fill-color);\n",
              "      border-top-color: var(--fill-color);\n",
              "    }\n",
              "    60% {\n",
              "      border-color: transparent;\n",
              "      border-right-color: var(--fill-color);\n",
              "    }\n",
              "    80% {\n",
              "      border-color: transparent;\n",
              "      border-right-color: var(--fill-color);\n",
              "      border-bottom-color: var(--fill-color);\n",
              "    }\n",
              "    90% {\n",
              "      border-color: transparent;\n",
              "      border-bottom-color: var(--fill-color);\n",
              "    }\n",
              "  }\n",
              "</style>\n",
              "\n",
              "  <script>\n",
              "    async function quickchart(key) {\n",
              "      const quickchartButtonEl =\n",
              "        document.querySelector('#' + key + ' button');\n",
              "      quickchartButtonEl.disabled = true;  // To prevent multiple clicks.\n",
              "      quickchartButtonEl.classList.add('colab-df-spinner');\n",
              "      try {\n",
              "        const charts = await google.colab.kernel.invokeFunction(\n",
              "            'suggestCharts', [key], {});\n",
              "      } catch (error) {\n",
              "        console.error('Error during call to suggestCharts:', error);\n",
              "      }\n",
              "      quickchartButtonEl.classList.remove('colab-df-spinner');\n",
              "      quickchartButtonEl.classList.add('colab-df-quickchart-complete');\n",
              "    }\n",
              "    (() => {\n",
              "      let quickchartButtonEl =\n",
              "        document.querySelector('#df-c72cd617-af35-41a3-bb26-c5eabecc4ec0 button');\n",
              "      quickchartButtonEl.style.display =\n",
              "        google.colab.kernel.accessAllowed ? 'block' : 'none';\n",
              "    })();\n",
              "  </script>\n",
              "</div>\n",
              "\n",
              "  <div id=\"id_963e93eb-740f-4f16-88e6-3826d5d1fe07\">\n",
              "    <style>\n",
              "      .colab-df-generate {\n",
              "        background-color: #E8F0FE;\n",
              "        border: none;\n",
              "        border-radius: 50%;\n",
              "        cursor: pointer;\n",
              "        display: none;\n",
              "        fill: #1967D2;\n",
              "        height: 32px;\n",
              "        padding: 0 0 0 0;\n",
              "        width: 32px;\n",
              "      }\n",
              "\n",
              "      .colab-df-generate:hover {\n",
              "        background-color: #E2EBFA;\n",
              "        box-shadow: 0px 1px 2px rgba(60, 64, 67, 0.3), 0px 1px 3px 1px rgba(60, 64, 67, 0.15);\n",
              "        fill: #174EA6;\n",
              "      }\n",
              "\n",
              "      [theme=dark] .colab-df-generate {\n",
              "        background-color: #3B4455;\n",
              "        fill: #D2E3FC;\n",
              "      }\n",
              "\n",
              "      [theme=dark] .colab-df-generate:hover {\n",
              "        background-color: #434B5C;\n",
              "        box-shadow: 0px 1px 3px 1px rgba(0, 0, 0, 0.15);\n",
              "        filter: drop-shadow(0px 1px 2px rgba(0, 0, 0, 0.3));\n",
              "        fill: #FFFFFF;\n",
              "      }\n",
              "    </style>\n",
              "    <button class=\"colab-df-generate\" onclick=\"generateWithVariable('shapes_images_vacio')\"\n",
              "            title=\"Generate code using this dataframe.\"\n",
              "            style=\"display:none;\">\n",
              "\n",
              "  <svg xmlns=\"http://www.w3.org/2000/svg\" height=\"24px\"viewBox=\"0 0 24 24\"\n",
              "       width=\"24px\">\n",
              "    <path d=\"M7,19H8.4L18.45,9,17,7.55,7,17.6ZM5,21V16.75L18.45,3.32a2,2,0,0,1,2.83,0l1.4,1.43a1.91,1.91,0,0,1,.58,1.4,1.91,1.91,0,0,1-.58,1.4L9.25,21ZM18.45,9,17,7.55Zm-12,3A5.31,5.31,0,0,0,4.9,8.1,5.31,5.31,0,0,0,1,6.5,5.31,5.31,0,0,0,4.9,4.9,5.31,5.31,0,0,0,6.5,1,5.31,5.31,0,0,0,8.1,4.9,5.31,5.31,0,0,0,12,6.5,5.46,5.46,0,0,0,6.5,12Z\"/>\n",
              "  </svg>\n",
              "    </button>\n",
              "    <script>\n",
              "      (() => {\n",
              "      const buttonEl =\n",
              "        document.querySelector('#id_963e93eb-740f-4f16-88e6-3826d5d1fe07 button.colab-df-generate');\n",
              "      buttonEl.style.display =\n",
              "        google.colab.kernel.accessAllowed ? 'block' : 'none';\n",
              "\n",
              "      buttonEl.onclick = () => {\n",
              "        google.colab.notebook.generateWithVariable('shapes_images_vacio');\n",
              "      }\n",
              "      })();\n",
              "    </script>\n",
              "  </div>\n",
              "\n",
              "    </div>\n",
              "  </div>\n"
            ],
            "application/vnd.google.colaboratory.intrinsic+json": {
              "type": "dataframe",
              "variable_name": "shapes_images_vacio",
              "summary": "{\n  \"name\": \"shapes_images_vacio\",\n  \"rows\": 5,\n  \"fields\": [\n    {\n      \"column\": \"shape\",\n      \"properties\": {\n        \"dtype\": \"category\",\n        \"num_unique_values\": 1,\n        \"samples\": [\n          [\n            0\n          ]\n        ],\n        \"semantic_type\": \"\",\n        \"description\": \"\"\n      }\n    },\n    {\n      \"column\": \"image_name\",\n      \"properties\": {\n        \"dtype\": \"string\",\n        \"num_unique_values\": 5,\n        \"samples\": [\n          \"39410.jpg\"\n        ],\n        \"semantic_type\": \"\",\n        \"description\": \"\"\n      }\n    }\n  ]\n}"
            }
          },
          "metadata": {},
          "execution_count": 55
        }
      ]
    },
    {
      "cell_type": "markdown",
      "source": [
        "## Filtramos embeddings vacios"
      ],
      "metadata": {
        "id": "E8X3WTTfaGH6"
      }
    },
    {
      "cell_type": "code",
      "source": [
        "image_names_vacio = shapes_images_vacio['image_name'].tolist()\n",
        "list_images = [feature for feature in dict_features if not feature['image_name'] in image_names_vacio]"
      ],
      "metadata": {
        "id": "GCbQ0m1YYPse"
      },
      "execution_count": 56,
      "outputs": []
    },
    {
      "cell_type": "markdown",
      "source": [
        "### Nota: Los embeddings vacios resultan porque en el folder de imagenes de kaggle solo hay 44441 imagenes, pero en el csv de imagenes hay 44446, entonces son 5 imágenes sin información y sale vacios."
      ],
      "metadata": {
        "id": "SREjZb0-aIWU"
      }
    },
    {
      "cell_type": "code",
      "source": [
        "len(list_images)"
      ],
      "metadata": {
        "colab": {
          "base_uri": "https://localhost:8080/"
        },
        "id": "kc2dR58-ZiMK",
        "outputId": "a2579f82-e9fc-44a1-9fea-b29e309a71ea"
      },
      "execution_count": 57,
      "outputs": [
        {
          "output_type": "execute_result",
          "data": {
            "text/plain": [
              "44441"
            ]
          },
          "metadata": {},
          "execution_count": 57
        }
      ]
    },
    {
      "cell_type": "markdown",
      "source": [
        "Guardamos los embeddings"
      ],
      "metadata": {
        "id": "r7IeauSDaWdp"
      }
    },
    {
      "cell_type": "code",
      "source": [
        "import pickle\n",
        "with open(os.path.join(dataset_folder, \"embeddings.pkl\"), 'wb') as f:\n",
        "  pickle.dump(list_images, f)"
      ],
      "metadata": {
        "id": "d0ksSA5yaYLj"
      },
      "execution_count": 59,
      "outputs": []
    },
    {
      "cell_type": "markdown",
      "source": [
        "## Muestreo de imágenes"
      ],
      "metadata": {
        "id": "GmI3GVqmia-p"
      }
    },
    {
      "cell_type": "code",
      "source": [
        "import matplotlib.pyplot as plt\n",
        "from PIL import Image\n",
        "\n",
        "# Cargar la imagen\n",
        "image = Image.open(images['image_path'].tolist()[0])\n",
        "\n",
        "# Mostrar la imagen\n",
        "plt.imshow(image)\n",
        "plt.axis('off')  # Ocultar ejes (opcional)\n",
        "plt.show()\n"
      ],
      "metadata": {
        "colab": {
          "base_uri": "https://localhost:8080/",
          "height": 406
        },
        "id": "h2JgERIuxyRH",
        "outputId": "2bbb0123-0ad8-436d-f2c8-c2bdb1d6ab10"
      },
      "execution_count": null,
      "outputs": [
        {
          "output_type": "display_data",
          "data": {
            "text/plain": [
              "<Figure size 640x480 with 1 Axes>"
            ],
            "image/png": "[encoded data removed]"
          },
          "metadata": {}
        }
      ]
    }
  ]
}