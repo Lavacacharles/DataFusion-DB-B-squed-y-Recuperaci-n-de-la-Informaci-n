{
 "cells": [
  {
   "cell_type": "code",
   "execution_count": null,
   "metadata": {},
   "outputs": [],
   "source": [
    "import pickle\n",
    "import numpy as np\n",
    "import heapq\n",
    "import os\n",
    "import pandas as pd\n",
    "import requests\n",
    "from PIL import Image\n",
    "from io import BytesIO\n",
    "\n",
    "folder_path = 'vectores'\n",
    "\n",
    "# Cargar los vectores\n",
    "archivos_pkl = [f for f in os.listdir(folder_path) if f.endswith('.pkl')]\n",
    "\n",
    "embeddings = []\n",
    "image_names = []\n",
    "\n",
    "for archivo in archivos_pkl:\n",
    "    archivo_pkl = os.path.join(folder_path, archivo)\n",
    "    \n",
    "    with open(archivo_pkl, 'rb') as f:\n",
    "        datos = pickle.load(f)\n",
    "    \n",
    "    for item in datos:\n",
    "        if 'embedding' in item and item['embedding'] is not None and len(item['embedding']) > 0:\n",
    "            embeddings.append(item['embedding'][0])  \n",
    "            image_names.append(item['image_name'])  \n",
    "\n",
    "def KnnSearchLineal(data, query, k):\n",
    "    max_heap = []\n",
    "    \n",
    "    for i in range(len(data)):\n",
    "        distance = np.linalg.norm(data[i] - query)  \n",
    "        \n",
    "        if len(max_heap) < k:\n",
    "            heapq.heappush(max_heap, (-distance, i))  \n",
    "        else:\n",
    "            heapq.heappushpop(max_heap, (-distance, i))\n",
    "    \n",
    "    # Devolver las imágenes y sus distancias\n",
    "    return [(image_names[i], -dist) for dist, i in max_heap]  \n",
    "\n",
    "\n"
   ]
  },
  {
   "cell_type": "code",
   "execution_count": null,
   "metadata": {},
   "outputs": [
    {
     "name": "stdout",
     "output_type": "stream",
     "text": [
      "La imagen de la query es:  filename                                            30805.jpg\n",
      "link        http://assets.myntassets.com/v1/images/style/p...\n",
      "Name: 6, dtype: object\n",
      "Link de la imagen: http://assets.myntassets.com/v1/images/style/properties/06e9d4231254fdb2c7fe967ad413ad7b_images.jpg\n",
      "Las 5 imágenes más cercanas a 30805.jpg son:\n",
      "Imagen: 11398.jpg, Distancia: 8.606139361605164\n",
      "Link de la imagen: http://assets.myntassets.com/v1/images/style/properties/322a7416320456a75df831775b16981c_images.jpg\n",
      "Imagen: 17751.jpg, Distancia: 8.191418148559112\n",
      "Link de la imagen: http://assets.myntassets.com/v1/images/style/properties/6e03fb7365a228ef94e46ac09d25d1c8_images.jpg\n",
      "Imagen: 14669.jpg, Distancia: 8.555687516962067\n",
      "Link de la imagen: http://assets.myntassets.com/v1/images/style/properties/3aa18746c06db000ce9177998ef34f2b_images.jpg\n",
      "Imagen: 30805.jpg, Distancia: 0.0\n",
      "Link de la imagen: http://assets.myntassets.com/v1/images/style/properties/06e9d4231254fdb2c7fe967ad413ad7b_images.jpg\n",
      "Imagen: 23199.jpg, Distancia: 7.241549363493772\n",
      "Link de la imagen: http://assets.myntassets.com/v1/images/style/properties/b4d30abb75c82962a03e9ae936fd63ff_images.jpg\n"
     ]
    }
   ],
   "source": [
    "images_df = pd.read_csv('images.csv/images.csv')\n",
    "\n",
    "# Establecer la consulta\n",
    "query_index = 6\n",
    "query = embeddings[query_index]  \n",
    "imagen_q_name = image_names[query_index]\n",
    "\n",
    "# Obtener el nombre de la imagen de la query\n",
    "imagen_q = images_df[images_df['filename'] == imagen_q_name].iloc[0]\n",
    "\n",
    "print(\"La imagen de la query es: \", imagen_q)\n",
    "\n",
    "# Link de la imagen de la query\n",
    "image_link = imagen_q['link']\n",
    "print(\"Link de la imagen:\", image_link)\n",
    "\n",
    "# Realizar la búsqueda KNN\n",
    "k = 5\n",
    "resultados = KnnSearchLineal(embeddings, query, k)\n",
    "print(f\"Las {k} imágenes más cercanas a {image_names[query_index]} son:\")\n",
    "\n",
    "for img_name, dist in resultados:\n",
    "    print(f\"Imagen: {img_name}, Distancia: {dist}\")\n",
    "    image_row = images_df[images_df['filename'] == img_name]\n",
    "    if not image_row.empty:\n",
    "        print(\"Link de la imagen:\", image_row['link'].values[0])\n"
   ]
  }
 ],
 "metadata": {
  "kernelspec": {
   "display_name": "Python 3",
   "language": "python",
   "name": "python3"
  },
  "language_info": {
   "codemirror_mode": {
    "name": "ipython",
    "version": 3
   },
   "file_extension": ".py",
   "mimetype": "text/x-python",
   "name": "python",
   "nbconvert_exporter": "python",
   "pygments_lexer": "ipython3",
   "version": "3.10.6"
  }
 },
 "nbformat": 4,
 "nbformat_minor": 2
}
